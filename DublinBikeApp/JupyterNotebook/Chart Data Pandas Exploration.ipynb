{
 "cells": [
  {
   "cell_type": "code",
   "execution_count": 2,
   "metadata": {},
   "outputs": [],
   "source": [
    "import pandas as pd\n",
    "import numpy as np\n",
    "import requests\n",
    "import json\n",
    "import gviz_api\n",
    "from pandas.io.json import json_normalize\n",
    "import matplotlib.pyplot as plt\n",
    "\n",
    "%matplotlib inline\n",
    "pd.set_option('display.max_columns', None)   "
   ]
  },
  {
   "cell_type": "code",
   "execution_count": null,
   "metadata": {},
   "outputs": [],
   "source": [
    "#     engine = get_db()\n",
    "#     sql = \"\"\"\n",
    "#     SELECT dublinbikedb.static.number, available_bikes, last_update\n",
    "#     FROM dublinbikedb.static \n",
    "#     JOIN dublinbikedb.dynamic ON dublinbikedb.static.number = dublinbikedb.dynamic.number \n",
    "#     \"\"\"\n",
    "\n",
    "# For feeding SQL data to jupyter notebook 2.\n",
    "#     chart = engine.execute(sql)\n",
    "#     chartJson = []\n",
    "#     for i in chart:\n",
    "#         chartJson.append(dict(i))\n",
    "\n",
    "#     return chartJson.to_json()"
   ]
  },
  {
   "cell_type": "code",
   "execution_count": 10,
   "metadata": {},
   "outputs": [],
   "source": [
    "chart1 = requests.get(\"http://localhost:5000/chart/1\")"
   ]
  },
  {
   "cell_type": "code",
   "execution_count": 11,
   "metadata": {},
   "outputs": [],
   "source": [
    "myJson = json.loads(chart1.text)"
   ]
  },
  {
   "cell_type": "code",
   "execution_count": 15,
   "metadata": {},
   "outputs": [
    {
     "data": {
      "text/html": [
       "<div>\n",
       "<style>\n",
       "    .dataframe thead tr:only-child th {\n",
       "        text-align: right;\n",
       "    }\n",
       "\n",
       "    .dataframe thead th {\n",
       "        text-align: left;\n",
       "    }\n",
       "\n",
       "    .dataframe tbody tr th {\n",
       "        vertical-align: top;\n",
       "    }\n",
       "</style>\n",
       "<table border=\"1\" class=\"dataframe\">\n",
       "  <thead>\n",
       "    <tr style=\"text-align: right;\">\n",
       "      <th></th>\n",
       "      <th>available_bikes</th>\n",
       "      <th>last_update</th>\n",
       "      <th>number</th>\n",
       "    </tr>\n",
       "  </thead>\n",
       "  <tbody>\n",
       "    <tr>\n",
       "      <th>0</th>\n",
       "      <td>7</td>\n",
       "      <td>1.520865e+12</td>\n",
       "      <td>42</td>\n",
       "    </tr>\n",
       "    <tr>\n",
       "      <th>1</th>\n",
       "      <td>7</td>\n",
       "      <td>1.520865e+12</td>\n",
       "      <td>42</td>\n",
       "    </tr>\n",
       "    <tr>\n",
       "      <th>2</th>\n",
       "      <td>17</td>\n",
       "      <td>1.521136e+12</td>\n",
       "      <td>42</td>\n",
       "    </tr>\n",
       "    <tr>\n",
       "      <th>3</th>\n",
       "      <td>22</td>\n",
       "      <td>1.521137e+12</td>\n",
       "      <td>42</td>\n",
       "    </tr>\n",
       "    <tr>\n",
       "      <th>4</th>\n",
       "      <td>25</td>\n",
       "      <td>1.521139e+12</td>\n",
       "      <td>42</td>\n",
       "    </tr>\n",
       "  </tbody>\n",
       "</table>\n",
       "</div>"
      ],
      "text/plain": [
       "   available_bikes   last_update  number\n",
       "0                7  1.520865e+12      42\n",
       "1                7  1.520865e+12      42\n",
       "2               17  1.521136e+12      42\n",
       "3               22  1.521137e+12      42\n",
       "4               25  1.521139e+12      42"
      ]
     },
     "execution_count": 15,
     "metadata": {},
     "output_type": "execute_result"
    }
   ],
   "source": [
    "df = json_normalize(myJson, sep='_')\n",
    "df.head(5)"
   ]
  },
  {
   "cell_type": "code",
   "execution_count": 16,
   "metadata": {},
   "outputs": [],
   "source": [
    "df['last_update'] =  pd.to_datetime((df['last_update']//1000), unit='s')"
   ]
  },
  {
   "cell_type": "code",
   "execution_count": 19,
   "metadata": {},
   "outputs": [
    {
     "data": {
      "text/html": [
       "<div>\n",
       "<style>\n",
       "    .dataframe thead tr:only-child th {\n",
       "        text-align: right;\n",
       "    }\n",
       "\n",
       "    .dataframe thead th {\n",
       "        text-align: left;\n",
       "    }\n",
       "\n",
       "    .dataframe tbody tr th {\n",
       "        vertical-align: top;\n",
       "    }\n",
       "</style>\n",
       "<table border=\"1\" class=\"dataframe\">\n",
       "  <thead>\n",
       "    <tr style=\"text-align: right;\">\n",
       "      <th></th>\n",
       "      <th>available_bikes</th>\n",
       "      <th>last_update</th>\n",
       "      <th>number</th>\n",
       "    </tr>\n",
       "  </thead>\n",
       "  <tbody>\n",
       "    <tr>\n",
       "      <th>0</th>\n",
       "      <td>7</td>\n",
       "      <td>2018-03-12 14:23:47</td>\n",
       "      <td>42</td>\n",
       "    </tr>\n",
       "    <tr>\n",
       "      <th>1</th>\n",
       "      <td>7</td>\n",
       "      <td>2018-03-12 14:30:30</td>\n",
       "      <td>42</td>\n",
       "    </tr>\n",
       "    <tr>\n",
       "      <th>2</th>\n",
       "      <td>17</td>\n",
       "      <td>2018-03-15 17:48:57</td>\n",
       "      <td>42</td>\n",
       "    </tr>\n",
       "    <tr>\n",
       "      <th>3</th>\n",
       "      <td>22</td>\n",
       "      <td>2018-03-15 18:10:19</td>\n",
       "      <td>42</td>\n",
       "    </tr>\n",
       "    <tr>\n",
       "      <th>4</th>\n",
       "      <td>25</td>\n",
       "      <td>2018-03-15 18:33:13</td>\n",
       "      <td>42</td>\n",
       "    </tr>\n",
       "  </tbody>\n",
       "</table>\n",
       "</div>"
      ],
      "text/plain": [
       "   available_bikes         last_update  number\n",
       "0                7 2018-03-12 14:23:47      42\n",
       "1                7 2018-03-12 14:30:30      42\n",
       "2               17 2018-03-15 17:48:57      42\n",
       "3               22 2018-03-15 18:10:19      42\n",
       "4               25 2018-03-15 18:33:13      42"
      ]
     },
     "execution_count": 19,
     "metadata": {},
     "output_type": "execute_result"
    }
   ],
   "source": [
    "df.head(5)"
   ]
  },
  {
   "cell_type": "code",
   "execution_count": 25,
   "metadata": {},
   "outputs": [],
   "source": [
    "df.set_index(df[\"last_update\"],inplace=True, drop=True)"
   ]
  },
  {
   "cell_type": "code",
   "execution_count": 26,
   "metadata": {},
   "outputs": [
    {
     "data": {
      "text/html": [
       "<div>\n",
       "<style>\n",
       "    .dataframe thead tr:only-child th {\n",
       "        text-align: right;\n",
       "    }\n",
       "\n",
       "    .dataframe thead th {\n",
       "        text-align: left;\n",
       "    }\n",
       "\n",
       "    .dataframe tbody tr th {\n",
       "        vertical-align: top;\n",
       "    }\n",
       "</style>\n",
       "<table border=\"1\" class=\"dataframe\">\n",
       "  <thead>\n",
       "    <tr style=\"text-align: right;\">\n",
       "      <th></th>\n",
       "      <th>available_bikes</th>\n",
       "      <th>last_update</th>\n",
       "      <th>number</th>\n",
       "    </tr>\n",
       "    <tr>\n",
       "      <th>last_update</th>\n",
       "      <th></th>\n",
       "      <th></th>\n",
       "      <th></th>\n",
       "    </tr>\n",
       "  </thead>\n",
       "  <tbody>\n",
       "    <tr>\n",
       "      <th>2018-03-12 14:23:47</th>\n",
       "      <td>7</td>\n",
       "      <td>2018-03-12 14:23:47</td>\n",
       "      <td>42</td>\n",
       "    </tr>\n",
       "    <tr>\n",
       "      <th>2018-03-12 14:30:30</th>\n",
       "      <td>7</td>\n",
       "      <td>2018-03-12 14:30:30</td>\n",
       "      <td>42</td>\n",
       "    </tr>\n",
       "    <tr>\n",
       "      <th>2018-03-15 17:48:57</th>\n",
       "      <td>17</td>\n",
       "      <td>2018-03-15 17:48:57</td>\n",
       "      <td>42</td>\n",
       "    </tr>\n",
       "    <tr>\n",
       "      <th>2018-03-15 18:10:19</th>\n",
       "      <td>22</td>\n",
       "      <td>2018-03-15 18:10:19</td>\n",
       "      <td>42</td>\n",
       "    </tr>\n",
       "    <tr>\n",
       "      <th>2018-03-15 18:33:13</th>\n",
       "      <td>25</td>\n",
       "      <td>2018-03-15 18:33:13</td>\n",
       "      <td>42</td>\n",
       "    </tr>\n",
       "  </tbody>\n",
       "</table>\n",
       "</div>"
      ],
      "text/plain": [
       "                     available_bikes         last_update  number\n",
       "last_update                                                     \n",
       "2018-03-12 14:23:47                7 2018-03-12 14:23:47      42\n",
       "2018-03-12 14:30:30                7 2018-03-12 14:30:30      42\n",
       "2018-03-15 17:48:57               17 2018-03-15 17:48:57      42\n",
       "2018-03-15 18:10:19               22 2018-03-15 18:10:19      42\n",
       "2018-03-15 18:33:13               25 2018-03-15 18:33:13      42"
      ]
     },
     "execution_count": 26,
     "metadata": {},
     "output_type": "execute_result"
    }
   ],
   "source": [
    "df.head(5)"
   ]
  },
  {
   "cell_type": "code",
   "execution_count": 28,
   "metadata": {},
   "outputs": [
    {
     "data": {
      "text/html": [
       "<div>\n",
       "<style>\n",
       "    .dataframe thead tr:only-child th {\n",
       "        text-align: right;\n",
       "    }\n",
       "\n",
       "    .dataframe thead th {\n",
       "        text-align: left;\n",
       "    }\n",
       "\n",
       "    .dataframe tbody tr th {\n",
       "        vertical-align: top;\n",
       "    }\n",
       "</style>\n",
       "<table border=\"1\" class=\"dataframe\">\n",
       "  <thead>\n",
       "    <tr style=\"text-align: right;\">\n",
       "      <th></th>\n",
       "      <th>available_bikes</th>\n",
       "      <th>number</th>\n",
       "    </tr>\n",
       "    <tr>\n",
       "      <th>last_update</th>\n",
       "      <th></th>\n",
       "      <th></th>\n",
       "    </tr>\n",
       "  </thead>\n",
       "  <tbody>\n",
       "    <tr>\n",
       "      <th>2018-03-12 14:23:47</th>\n",
       "      <td>7</td>\n",
       "      <td>42</td>\n",
       "    </tr>\n",
       "    <tr>\n",
       "      <th>2018-03-12 14:30:30</th>\n",
       "      <td>7</td>\n",
       "      <td>42</td>\n",
       "    </tr>\n",
       "    <tr>\n",
       "      <th>2018-03-15 17:48:57</th>\n",
       "      <td>17</td>\n",
       "      <td>42</td>\n",
       "    </tr>\n",
       "    <tr>\n",
       "      <th>2018-03-15 18:10:19</th>\n",
       "      <td>22</td>\n",
       "      <td>42</td>\n",
       "    </tr>\n",
       "    <tr>\n",
       "      <th>2018-03-15 18:33:13</th>\n",
       "      <td>25</td>\n",
       "      <td>42</td>\n",
       "    </tr>\n",
       "  </tbody>\n",
       "</table>\n",
       "</div>"
      ],
      "text/plain": [
       "                     available_bikes  number\n",
       "last_update                                 \n",
       "2018-03-12 14:23:47                7      42\n",
       "2018-03-12 14:30:30                7      42\n",
       "2018-03-15 17:48:57               17      42\n",
       "2018-03-15 18:10:19               22      42\n",
       "2018-03-15 18:33:13               25      42"
      ]
     },
     "execution_count": 28,
     "metadata": {},
     "output_type": "execute_result"
    }
   ],
   "source": [
    "#df.drop(['last_update'], axis=1).head(5)"
   ]
  },
  {
   "cell_type": "code",
   "execution_count": 49,
   "metadata": {},
   "outputs": [],
   "source": [
    "group = pd.DataFrame(df.groupby([df.number, df.index.dayofweek, df.index.hour]).mean().unstack(level=1))"
   ]
  },
  {
   "cell_type": "code",
   "execution_count": 50,
   "metadata": {},
   "outputs": [
    {
     "data": {
      "text/html": [
       "<div>\n",
       "<style>\n",
       "    .dataframe thead tr:only-child th {\n",
       "        text-align: right;\n",
       "    }\n",
       "\n",
       "    .dataframe thead th {\n",
       "        text-align: left;\n",
       "    }\n",
       "\n",
       "    .dataframe tbody tr th {\n",
       "        vertical-align: top;\n",
       "    }\n",
       "</style>\n",
       "<table border=\"1\" class=\"dataframe\">\n",
       "  <thead>\n",
       "    <tr>\n",
       "      <th></th>\n",
       "      <th></th>\n",
       "      <th colspan=\"7\" halign=\"left\">available_bikes</th>\n",
       "    </tr>\n",
       "    <tr>\n",
       "      <th></th>\n",
       "      <th>last_update</th>\n",
       "      <th>0.0</th>\n",
       "      <th>1.0</th>\n",
       "      <th>2.0</th>\n",
       "      <th>3.0</th>\n",
       "      <th>4.0</th>\n",
       "      <th>5.0</th>\n",
       "      <th>6.0</th>\n",
       "    </tr>\n",
       "    <tr>\n",
       "      <th>number</th>\n",
       "      <th>last_update</th>\n",
       "      <th></th>\n",
       "      <th></th>\n",
       "      <th></th>\n",
       "      <th></th>\n",
       "      <th></th>\n",
       "      <th></th>\n",
       "      <th></th>\n",
       "    </tr>\n",
       "  </thead>\n",
       "  <tbody>\n",
       "    <tr>\n",
       "      <th rowspan=\"5\" valign=\"top\">1</th>\n",
       "      <th>0.0</th>\n",
       "      <td>6.720000</td>\n",
       "      <td>1.852459</td>\n",
       "      <td>0.523810</td>\n",
       "      <td>0.451613</td>\n",
       "      <td>3.200000</td>\n",
       "      <td>11.350877</td>\n",
       "      <td>22.604167</td>\n",
       "    </tr>\n",
       "    <tr>\n",
       "      <th>1.0</th>\n",
       "      <td>7.280000</td>\n",
       "      <td>1.984375</td>\n",
       "      <td>0.584615</td>\n",
       "      <td>0.437500</td>\n",
       "      <td>3.245902</td>\n",
       "      <td>10.741935</td>\n",
       "      <td>22.250000</td>\n",
       "    </tr>\n",
       "    <tr>\n",
       "      <th>2.0</th>\n",
       "      <td>7.000000</td>\n",
       "      <td>1.875000</td>\n",
       "      <td>0.562500</td>\n",
       "      <td>0.444444</td>\n",
       "      <td>3.147541</td>\n",
       "      <td>10.915254</td>\n",
       "      <td>22.367347</td>\n",
       "    </tr>\n",
       "    <tr>\n",
       "      <th>3.0</th>\n",
       "      <td>6.844444</td>\n",
       "      <td>1.950000</td>\n",
       "      <td>0.557377</td>\n",
       "      <td>0.566667</td>\n",
       "      <td>3.087719</td>\n",
       "      <td>10.610169</td>\n",
       "      <td>22.065217</td>\n",
       "    </tr>\n",
       "    <tr>\n",
       "      <th>4.0</th>\n",
       "      <td>7.833333</td>\n",
       "      <td>2.933333</td>\n",
       "      <td>1.241935</td>\n",
       "      <td>1.281250</td>\n",
       "      <td>4.606557</td>\n",
       "      <td>11.885246</td>\n",
       "      <td>22.816327</td>\n",
       "    </tr>\n",
       "  </tbody>\n",
       "</table>\n",
       "</div>"
      ],
      "text/plain": [
       "                   available_bikes                                          \\\n",
       "last_update                    0.0       1.0       2.0       3.0       4.0   \n",
       "number last_update                                                           \n",
       "1      0.0                6.720000  1.852459  0.523810  0.451613  3.200000   \n",
       "       1.0                7.280000  1.984375  0.584615  0.437500  3.245902   \n",
       "       2.0                7.000000  1.875000  0.562500  0.444444  3.147541   \n",
       "       3.0                6.844444  1.950000  0.557377  0.566667  3.087719   \n",
       "       4.0                7.833333  2.933333  1.241935  1.281250  4.606557   \n",
       "\n",
       "                                          \n",
       "last_update               5.0        6.0  \n",
       "number last_update                        \n",
       "1      0.0          11.350877  22.604167  \n",
       "       1.0          10.741935  22.250000  \n",
       "       2.0          10.915254  22.367347  \n",
       "       3.0          10.610169  22.065217  \n",
       "       4.0          11.885246  22.816327  "
      ]
     },
     "execution_count": 50,
     "metadata": {},
     "output_type": "execute_result"
    }
   ],
   "source": [
    "group.head(5)"
   ]
  },
  {
   "cell_type": "code",
   "execution_count": 51,
   "metadata": {},
   "outputs": [],
   "source": [
    "group.columns.set_levels([\"Monday\", \"Tuesday\", \"Wednesday\", \n",
    "                          \"Thursday\", \"Friday\", \"Saturday\", \"Sunday\"],level=1,inplace=True)"
   ]
  },
  {
   "cell_type": "code",
   "execution_count": 197,
   "metadata": {},
   "outputs": [
    {
     "data": {
      "text/html": [
       "<div>\n",
       "<style>\n",
       "    .dataframe thead tr:only-child th {\n",
       "        text-align: right;\n",
       "    }\n",
       "\n",
       "    .dataframe thead th {\n",
       "        text-align: left;\n",
       "    }\n",
       "\n",
       "    .dataframe tbody tr th {\n",
       "        vertical-align: top;\n",
       "    }\n",
       "</style>\n",
       "<table border=\"1\" class=\"dataframe\">\n",
       "  <thead>\n",
       "    <tr>\n",
       "      <th></th>\n",
       "      <th></th>\n",
       "      <th colspan=\"7\" halign=\"left\">available_bikes</th>\n",
       "    </tr>\n",
       "    <tr>\n",
       "      <th></th>\n",
       "      <th>last_update</th>\n",
       "      <th>Monday</th>\n",
       "      <th>Tuesday</th>\n",
       "      <th>Wednesday</th>\n",
       "      <th>Thursday</th>\n",
       "      <th>Friday</th>\n",
       "      <th>Saturday</th>\n",
       "      <th>Sunday</th>\n",
       "    </tr>\n",
       "    <tr>\n",
       "      <th>number</th>\n",
       "      <th>last_update</th>\n",
       "      <th></th>\n",
       "      <th></th>\n",
       "      <th></th>\n",
       "      <th></th>\n",
       "      <th></th>\n",
       "      <th></th>\n",
       "      <th></th>\n",
       "    </tr>\n",
       "  </thead>\n",
       "  <tbody>\n",
       "    <tr>\n",
       "      <th rowspan=\"5\" valign=\"top\">1</th>\n",
       "      <th>0.0</th>\n",
       "      <td>6.720000</td>\n",
       "      <td>1.852459</td>\n",
       "      <td>0.523810</td>\n",
       "      <td>0.451613</td>\n",
       "      <td>3.200000</td>\n",
       "      <td>11.350877</td>\n",
       "      <td>22.604167</td>\n",
       "    </tr>\n",
       "    <tr>\n",
       "      <th>1.0</th>\n",
       "      <td>7.280000</td>\n",
       "      <td>1.984375</td>\n",
       "      <td>0.584615</td>\n",
       "      <td>0.437500</td>\n",
       "      <td>3.245902</td>\n",
       "      <td>10.741935</td>\n",
       "      <td>22.250000</td>\n",
       "    </tr>\n",
       "    <tr>\n",
       "      <th>2.0</th>\n",
       "      <td>7.000000</td>\n",
       "      <td>1.875000</td>\n",
       "      <td>0.562500</td>\n",
       "      <td>0.444444</td>\n",
       "      <td>3.147541</td>\n",
       "      <td>10.915254</td>\n",
       "      <td>22.367347</td>\n",
       "    </tr>\n",
       "    <tr>\n",
       "      <th>3.0</th>\n",
       "      <td>6.844444</td>\n",
       "      <td>1.950000</td>\n",
       "      <td>0.557377</td>\n",
       "      <td>0.566667</td>\n",
       "      <td>3.087719</td>\n",
       "      <td>10.610169</td>\n",
       "      <td>22.065217</td>\n",
       "    </tr>\n",
       "    <tr>\n",
       "      <th>4.0</th>\n",
       "      <td>7.833333</td>\n",
       "      <td>2.933333</td>\n",
       "      <td>1.241935</td>\n",
       "      <td>1.281250</td>\n",
       "      <td>4.606557</td>\n",
       "      <td>11.885246</td>\n",
       "      <td>22.816327</td>\n",
       "    </tr>\n",
       "  </tbody>\n",
       "</table>\n",
       "</div>"
      ],
      "text/plain": [
       "                   available_bikes                                          \\\n",
       "last_update                 Monday   Tuesday Wednesday  Thursday    Friday   \n",
       "number last_update                                                           \n",
       "1      0.0                6.720000  1.852459  0.523810  0.451613  3.200000   \n",
       "       1.0                7.280000  1.984375  0.584615  0.437500  3.245902   \n",
       "       2.0                7.000000  1.875000  0.562500  0.444444  3.147541   \n",
       "       3.0                6.844444  1.950000  0.557377  0.566667  3.087719   \n",
       "       4.0                7.833333  2.933333  1.241935  1.281250  4.606557   \n",
       "\n",
       "                                          \n",
       "last_update          Saturday     Sunday  \n",
       "number last_update                        \n",
       "1      0.0          11.350877  22.604167  \n",
       "       1.0          10.741935  22.250000  \n",
       "       2.0          10.915254  22.367347  \n",
       "       3.0          10.610169  22.065217  \n",
       "       4.0          11.885246  22.816327  "
      ]
     },
     "execution_count": 197,
     "metadata": {},
     "output_type": "execute_result"
    }
   ],
   "source": [
    "group.head(5)"
   ]
  },
  {
   "cell_type": "code",
   "execution_count": 198,
   "metadata": {
    "scrolled": false
   },
   "outputs": [
    {
     "data": {
      "text/plain": [
       "MultiIndex(levels=[['available_bikes'], ['Monday', 'Tuesday', 'Wednesday', 'Thursday', 'Friday', 'Saturday', 'Sunday']],\n",
       "           labels=[[0, 0, 0, 0, 0, 0, 0], [0, 1, 2, 3, 4, 5, 6]],\n",
       "           names=[None, 'last_update'])"
      ]
     },
     "execution_count": 198,
     "metadata": {},
     "output_type": "execute_result"
    }
   ],
   "source": [
    "group.columns"
   ]
  },
  {
   "cell_type": "code",
   "execution_count": 199,
   "metadata": {},
   "outputs": [],
   "source": [
    "test_group = group.head(48)"
   ]
  },
  {
   "cell_type": "code",
   "execution_count": 200,
   "metadata": {},
   "outputs": [
    {
     "data": {
      "text/html": [
       "<div>\n",
       "<style>\n",
       "    .dataframe thead tr:only-child th {\n",
       "        text-align: right;\n",
       "    }\n",
       "\n",
       "    .dataframe thead th {\n",
       "        text-align: left;\n",
       "    }\n",
       "\n",
       "    .dataframe tbody tr th {\n",
       "        vertical-align: top;\n",
       "    }\n",
       "</style>\n",
       "<table border=\"1\" class=\"dataframe\">\n",
       "  <thead>\n",
       "    <tr>\n",
       "      <th></th>\n",
       "      <th></th>\n",
       "      <th colspan=\"7\" halign=\"left\">available_bikes</th>\n",
       "    </tr>\n",
       "    <tr>\n",
       "      <th></th>\n",
       "      <th>last_update</th>\n",
       "      <th>Monday</th>\n",
       "      <th>Tuesday</th>\n",
       "      <th>Wednesday</th>\n",
       "      <th>Thursday</th>\n",
       "      <th>Friday</th>\n",
       "      <th>Saturday</th>\n",
       "      <th>Sunday</th>\n",
       "    </tr>\n",
       "    <tr>\n",
       "      <th>number</th>\n",
       "      <th>last_update</th>\n",
       "      <th></th>\n",
       "      <th></th>\n",
       "      <th></th>\n",
       "      <th></th>\n",
       "      <th></th>\n",
       "      <th></th>\n",
       "      <th></th>\n",
       "    </tr>\n",
       "  </thead>\n",
       "  <tbody>\n",
       "    <tr>\n",
       "      <th rowspan=\"3\" valign=\"top\">1</th>\n",
       "      <th>0.0</th>\n",
       "      <td>6.72</td>\n",
       "      <td>1.852459</td>\n",
       "      <td>0.523810</td>\n",
       "      <td>0.451613</td>\n",
       "      <td>3.200000</td>\n",
       "      <td>11.350877</td>\n",
       "      <td>22.604167</td>\n",
       "    </tr>\n",
       "    <tr>\n",
       "      <th>1.0</th>\n",
       "      <td>7.28</td>\n",
       "      <td>1.984375</td>\n",
       "      <td>0.584615</td>\n",
       "      <td>0.437500</td>\n",
       "      <td>3.245902</td>\n",
       "      <td>10.741935</td>\n",
       "      <td>22.250000</td>\n",
       "    </tr>\n",
       "    <tr>\n",
       "      <th>2.0</th>\n",
       "      <td>7.00</td>\n",
       "      <td>1.875000</td>\n",
       "      <td>0.562500</td>\n",
       "      <td>0.444444</td>\n",
       "      <td>3.147541</td>\n",
       "      <td>10.915254</td>\n",
       "      <td>22.367347</td>\n",
       "    </tr>\n",
       "  </tbody>\n",
       "</table>\n",
       "</div>"
      ],
      "text/plain": [
       "                   available_bikes                                          \\\n",
       "last_update                 Monday   Tuesday Wednesday  Thursday    Friday   \n",
       "number last_update                                                           \n",
       "1      0.0                    6.72  1.852459  0.523810  0.451613  3.200000   \n",
       "       1.0                    7.28  1.984375  0.584615  0.437500  3.245902   \n",
       "       2.0                    7.00  1.875000  0.562500  0.444444  3.147541   \n",
       "\n",
       "                                          \n",
       "last_update          Saturday     Sunday  \n",
       "number last_update                        \n",
       "1      0.0          11.350877  22.604167  \n",
       "       1.0          10.741935  22.250000  \n",
       "       2.0          10.915254  22.367347  "
      ]
     },
     "execution_count": 200,
     "metadata": {},
     "output_type": "execute_result"
    }
   ],
   "source": [
    "test_group.head(3)"
   ]
  },
  {
   "cell_type": "code",
   "execution_count": 201,
   "metadata": {},
   "outputs": [
    {
     "data": {
      "text/html": [
       "<div>\n",
       "<style>\n",
       "    .dataframe thead tr:only-child th {\n",
       "        text-align: right;\n",
       "    }\n",
       "\n",
       "    .dataframe thead th {\n",
       "        text-align: left;\n",
       "    }\n",
       "\n",
       "    .dataframe tbody tr th {\n",
       "        vertical-align: top;\n",
       "    }\n",
       "</style>\n",
       "<table border=\"1\" class=\"dataframe\">\n",
       "  <thead>\n",
       "    <tr>\n",
       "      <th></th>\n",
       "      <th></th>\n",
       "      <th colspan=\"7\" halign=\"left\">available_bikes</th>\n",
       "    </tr>\n",
       "    <tr>\n",
       "      <th></th>\n",
       "      <th>last_update</th>\n",
       "      <th>Monday</th>\n",
       "      <th>Tuesday</th>\n",
       "      <th>Wednesday</th>\n",
       "      <th>Thursday</th>\n",
       "      <th>Friday</th>\n",
       "      <th>Saturday</th>\n",
       "      <th>Sunday</th>\n",
       "    </tr>\n",
       "    <tr>\n",
       "      <th>number</th>\n",
       "      <th>last_update</th>\n",
       "      <th></th>\n",
       "      <th></th>\n",
       "      <th></th>\n",
       "      <th></th>\n",
       "      <th></th>\n",
       "      <th></th>\n",
       "      <th></th>\n",
       "    </tr>\n",
       "  </thead>\n",
       "  <tbody>\n",
       "    <tr>\n",
       "      <th rowspan=\"3\" valign=\"top\">2</th>\n",
       "      <th>21.0</th>\n",
       "      <td>7.737705</td>\n",
       "      <td>12.903226</td>\n",
       "      <td>15.651515</td>\n",
       "      <td>10.616667</td>\n",
       "      <td>5.068966</td>\n",
       "      <td>7.051282</td>\n",
       "      <td>6.533333</td>\n",
       "    </tr>\n",
       "    <tr>\n",
       "      <th>22.0</th>\n",
       "      <td>7.187500</td>\n",
       "      <td>14.546875</td>\n",
       "      <td>16.650000</td>\n",
       "      <td>11.883333</td>\n",
       "      <td>8.241935</td>\n",
       "      <td>6.428571</td>\n",
       "      <td>9.444444</td>\n",
       "    </tr>\n",
       "    <tr>\n",
       "      <th>23.0</th>\n",
       "      <td>8.016667</td>\n",
       "      <td>16.049180</td>\n",
       "      <td>17.491803</td>\n",
       "      <td>12.315789</td>\n",
       "      <td>9.267857</td>\n",
       "      <td>6.708333</td>\n",
       "      <td>9.900000</td>\n",
       "    </tr>\n",
       "  </tbody>\n",
       "</table>\n",
       "</div>"
      ],
      "text/plain": [
       "                   available_bikes                                             \\\n",
       "last_update                 Monday    Tuesday  Wednesday   Thursday    Friday   \n",
       "number last_update                                                              \n",
       "2      21.0               7.737705  12.903226  15.651515  10.616667  5.068966   \n",
       "       22.0               7.187500  14.546875  16.650000  11.883333  8.241935   \n",
       "       23.0               8.016667  16.049180  17.491803  12.315789  9.267857   \n",
       "\n",
       "                                        \n",
       "last_update         Saturday    Sunday  \n",
       "number last_update                      \n",
       "2      21.0         7.051282  6.533333  \n",
       "       22.0         6.428571  9.444444  \n",
       "       23.0         6.708333  9.900000  "
      ]
     },
     "execution_count": 201,
     "metadata": {},
     "output_type": "execute_result"
    }
   ],
   "source": [
    "test_group.tail(3)"
   ]
  },
  {
   "cell_type": "code",
   "execution_count": 202,
   "metadata": {},
   "outputs": [
    {
     "data": {
      "text/plain": [
       "MultiIndex(levels=[['available_bikes'], ['Monday', 'Tuesday', 'Wednesday', 'Thursday', 'Friday', 'Saturday', 'Sunday']],\n",
       "           labels=[[0, 0, 0, 0, 0, 0, 0], [0, 1, 2, 3, 4, 5, 6]],\n",
       "           names=[None, 'last_update'])"
      ]
     },
     "execution_count": 202,
     "metadata": {},
     "output_type": "execute_result"
    }
   ],
   "source": [
    "test_group.columns"
   ]
  },
  {
   "cell_type": "code",
   "execution_count": 203,
   "metadata": {},
   "outputs": [
    {
     "name": "stdout",
     "output_type": "stream",
     "text": [
      "Number:  1\n",
      "hour:  {\"0\":6.72,\"1\":7.28,\"2\":7.0,\"3\":6.8444444444,\"4\":7.8333333333,\"5\":9.7959183673,\"6\":10.0638297872,\"7\":14.3,\"8\":21.5957446809,\"9\":22.7872340426,\"10\":23.8958333333,\"11\":20.6444444444,\"12\":21.12,\"13\":16.7551020408,\"14\":18.5862068966,\"15\":13.6307692308,\"16\":11.5483870968,\"17\":10.0158730159,\"18\":7.9411764706,\"19\":6.9473684211,\"20\":3.8125,\"21\":3.5,\"22\":3.2615384615,\"23\":2.2131147541}\n",
      "Number:  2\n",
      "hour:  {\"0\":9.7021276596,\"1\":10.62,\"2\":10.1632653061,\"3\":10.0697674419,\"4\":9.7916666667,\"5\":7.5714285714,\"6\":5.4583333333,\"7\":2.3333333333,\"8\":0.4680851064,\"9\":2.1914893617,\"10\":4.3958333333,\"11\":3.7755102041,\"12\":3.9130434783,\"13\":5.3725490196,\"14\":4.5737704918,\"15\":4.9032258065,\"16\":4.09375,\"17\":4.15,\"18\":5.921875,\"19\":6.4603174603,\"20\":7.0625,\"21\":7.737704918,\"22\":7.1875,\"23\":8.0166666667}\n"
     ]
    }
   ],
   "source": [
    "for number, new_df in test_group.groupby(level=0):\n",
    "    print('Number: ', number)\n",
    "    print(\"hour: \", new_df['available_bikes']['Monday'].reset_index(drop=True).to_json())"
   ]
  },
  {
   "cell_type": "code",
   "execution_count": 204,
   "metadata": {},
   "outputs": [
    {
     "name": "stdout",
     "output_type": "stream",
     "text": [
      "Monday\n",
      "Tuesday\n",
      "Wednesday\n",
      "Thursday\n",
      "Friday\n",
      "Saturday\n",
      "Sunday\n"
     ]
    }
   ],
   "source": [
    "for i in test_group['available_bikes'].columns:\n",
    "    print(i)"
   ]
  },
  {
   "cell_type": "code",
   "execution_count": 205,
   "metadata": {
    "scrolled": true
   },
   "outputs": [
    {
     "name": "stdout",
     "output_type": "stream",
     "text": [
      "{'1': {'Monday': [6.72, 7.28, 7.0, 6.844444444444444, 7.833333333333333, 9.795918367346939, 10.063829787234043, 14.3, 21.595744680851062, 22.78723404255319, 23.895833333333332, 20.644444444444446, 21.12, 16.755102040816325, 18.586206896551722, 13.63076923076923, 11.548387096774194, 10.015873015873016, 7.9411764705882355, 6.947368421052632, 3.8125, 3.5, 3.2615384615384615, 2.2131147540983607], 'Tuesday': [1.8524590163934427, 1.984375, 1.875, 1.95, 2.933333333333333, 6.193548387096774, 11.80327868852459, 14.955223880597014, 20.095238095238095, 18.184615384615384, 20.3125, 19.95, 14.523809523809524, 17.921875, 15.564516129032258, 15.133333333333333, 12.063492063492063, 11.508474576271187, 9.26984126984127, 6.953125, 2.6865671641791047, 1.3384615384615384, 0.22950819672131148, 0.6], 'Wednesday': [0.5238095238095238, 0.5846153846153846, 0.5625, 0.5573770491803278, 1.2419354838709677, 4.015384615384615, 9.82258064516129, 10.841269841269842, 12.88888888888889, 13.967213114754099, 15.661290322580646, 17.24137931034483, 19.0, 18.096774193548388, 16.45, 15.759493670886076, 11.375, 8.311475409836065, 2.7285714285714286, 0.576271186440678, 4.677966101694915, 4.123076923076923, 3.403225806451613, 1.21875], 'Thursday': [0.45161290322580644, 0.4375, 0.4444444444444444, 0.5666666666666667, 1.28125, 4.571428571428571, 9.032786885245901, 13.721311475409836, 15.936507936507937, 18.137254901960784, 24.338983050847457, 23.75, 27.9672131147541, 26.446153846153845, 22.3125, 20.177419354838708, 17.177419354838708, 19.5, 22.244897959183675, 16.58730158730159, 11.5, 9.206896551724139, 5.016129032258065, 3.433333333333333], 'Friday': [3.2, 3.2459016393442623, 3.1475409836065573, 3.087719298245614, 4.60655737704918, 5.431034482758621, 7.766666666666667, 12.98360655737705, 21.083333333333332, 24.74137931034483, 26.166666666666668, 25.728813559322035, 26.838709677419356, 28.559322033898304, 24.928571428571427, 22.467741935483872, 19.137931034482758, 14.338709677419354, 17.721311475409838, 18.29310344827586, 18.612903225806452, 19.80327868852459, 16.65, 12.916666666666666], 'Saturday': [11.350877192982455, 10.741935483870968, 10.915254237288135, 10.610169491525424, 11.885245901639344, 12.80327868852459, 16.716666666666665, 21.016393442622952, 20.25423728813559, 22.05263157894737, 26.033333333333335, 24.96551724137931, 24.423728813559322, 25.67241379310345, 27.541666666666668, 28.804347826086957, 27.238095238095237, 26.473684210526315, 21.5, 24.25, 26.194444444444443, 25.894736842105264, 25.365384615384617, 23.977777777777778], 'Sunday': [22.604166666666668, 22.25, 22.367346938775512, 22.065217391304348, 22.816326530612244, 23.06122448979592, 24.893617021276597, 23.26086956521739, 19.836734693877553, 22.666666666666668, 18.979591836734695, 17.953488372093023, 18.44, 21.217391304347824, 12.936170212765957, 11.86, 10.404255319148936, 9.591836734693878, 7.395833333333333, 7.061224489795919, 8.444444444444445, 9.24, 7.454545454545454, 7.23404255319149]}, '2': {'Monday': [9.702127659574469, 10.62, 10.16326530612245, 10.069767441860465, 9.791666666666666, 7.571428571428571, 5.458333333333333, 2.3333333333333335, 0.46808510638297873, 2.1914893617021276, 4.395833333333333, 3.7755102040816326, 3.9130434782608696, 5.372549019607843, 4.573770491803279, 4.903225806451613, 4.09375, 4.15, 5.921875, 6.4603174603174605, 7.0625, 7.737704918032787, 7.1875, 8.016666666666667], 'Tuesday': [7.571428571428571, 7.698412698412699, 7.7272727272727275, 7.711864406779661, 7.155172413793103, 6.28125, 5.46969696969697, 6.131147540983607, 1.03125, 1.121212121212121, 3.377049180327869, 2.984375, 3.015151515151515, 4.862068965517241, 8.32258064516129, 8.883333333333333, 9.285714285714286, 9.396825396825397, 10.184615384615384, 11.35483870967742, 11.242424242424242, 12.903225806451612, 14.546875, 16.049180327868854], 'Wednesday': [15.890625, 15.969696969696969, 15.875, 15.766666666666667, 16.129032258064516, 14.290322580645162, 9.292307692307693, 5.0476190476190474, 3.2698412698412698, 1.8688524590163935, 3.9344262295081966, 4.870967741935484, 5.566666666666666, 8.661764705882353, 10.793650793650794, 11.175675675675675, 12.158730158730158, 13.212121212121213, 11.838709677419354, 12.95, 13.015625, 15.651515151515152, 16.65, 17.491803278688526], 'Thursday': [17.515625, 17.83606557377049, 18.166666666666668, 17.904761904761905, 16.84375, 12.696969696969697, 5.762711864406779, 2.873015873015873, 2.6451612903225805, 1.9622641509433962, 3.5, 4.515151515151516, 2.9836065573770494, 5.241935483870968, 6.015625, 5.121212121212121, 6.573770491803279, 8.913793103448276, 8.775510204081632, 7.333333333333333, 8.131147540983607, 10.616666666666667, 11.883333333333333, 12.31578947368421], 'Friday': [12.758064516129032, 13.161290322580646, 13.03225806451613, 13.107142857142858, 13.10344827586207, 12.11864406779661, 7.645161290322581, 5.274193548387097, 2.473684210526316, 5.288135593220339, 2.721311475409836, 1.0166666666666666, 0.6190476190476191, 1.1090909090909091, 3.75, 2.2419354838709675, 2.3392857142857144, 1.2372881355932204, 2.909090909090909, 4.482758620689655, 4.833333333333333, 5.068965517241379, 8.241935483870968, 9.267857142857142], 'Saturday': [8.934426229508198, 8.661290322580646, 8.936507936507937, 9.0, 8.542372881355933, 8.11864406779661, 6.836065573770492, 5.836065573770492, 3.8852459016393444, 2.086206896551724, 4.533333333333333, 5.916666666666667, 4.5, 4.660714285714286, 4.38, 8.74468085106383, 8.761904761904763, 8.0, 7.408163265306122, 8.685714285714285, 8.135135135135135, 7.051282051282051, 6.428571428571429, 6.708333333333333], 'Sunday': [7.404255319148936, 7.5, 7.34, 7.5227272727272725, 7.6521739130434785, 7.82, 6.916666666666667, 6.72, 5.1063829787234045, 3.32, 2.347826086956522, 2.659090909090909, 5.125, 6.446808510638298, 6.403846153846154, 6.186046511627907, 6.6938775510204085, 5.795918367346939, 4.133333333333334, 4.58, 5.865384615384615, 6.533333333333333, 9.444444444444445, 9.9]}}\n"
     ]
    }
   ],
   "source": [
    "groupJson = {}\n",
    "for number, new_df in test_group.groupby(level=0):\n",
    "    groupJson[str(number)] = {}\n",
    "    for day in test_group['available_bikes'].columns:\n",
    "        groupJson[str(number)][str(day)] = new_df['available_bikes'][day].reset_index(drop=True).tolist()\n",
    "print(groupJson)"
   ]
  },
  {
   "cell_type": "code",
   "execution_count": 206,
   "metadata": {},
   "outputs": [
    {
     "data": {
      "text/plain": [
       "'{\"1\": {\"Monday\": [6.72, 7.28, 7.0, 6.844444444444444, 7.833333333333333, 9.795918367346939, 10.063829787234043, 14.3, 21.595744680851062, 22.78723404255319, 23.895833333333332, 20.644444444444446, 21.12, 16.755102040816325, 18.586206896551722, 13.63076923076923, 11.548387096774194, 10.015873015873016, 7.9411764705882355, 6.947368421052632, 3.8125, 3.5, 3.2615384615384615, 2.2131147540983607], \"Tuesday\": [1.8524590163934427, 1.984375, 1.875, 1.95, 2.933333333333333, 6.193548387096774, 11.80327868852459, 14.955223880597014, 20.095238095238095, 18.184615384615384, 20.3125, 19.95, 14.523809523809524, 17.921875, 15.564516129032258, 15.133333333333333, 12.063492063492063, 11.508474576271187, 9.26984126984127, 6.953125, 2.6865671641791047, 1.3384615384615384, 0.22950819672131148, 0.6], \"Wednesday\": [0.5238095238095238, 0.5846153846153846, 0.5625, 0.5573770491803278, 1.2419354838709677, 4.015384615384615, 9.82258064516129, 10.841269841269842, 12.88888888888889, 13.967213114754099, 15.661290322580646, 17.24137931034483, 19.0, 18.096774193548388, 16.45, 15.759493670886076, 11.375, 8.311475409836065, 2.7285714285714286, 0.576271186440678, 4.677966101694915, 4.123076923076923, 3.403225806451613, 1.21875], \"Thursday\": [0.45161290322580644, 0.4375, 0.4444444444444444, 0.5666666666666667, 1.28125, 4.571428571428571, 9.032786885245901, 13.721311475409836, 15.936507936507937, 18.137254901960784, 24.338983050847457, 23.75, 27.9672131147541, 26.446153846153845, 22.3125, 20.177419354838708, 17.177419354838708, 19.5, 22.244897959183675, 16.58730158730159, 11.5, 9.206896551724139, 5.016129032258065, 3.433333333333333], \"Friday\": [3.2, 3.2459016393442623, 3.1475409836065573, 3.087719298245614, 4.60655737704918, 5.431034482758621, 7.766666666666667, 12.98360655737705, 21.083333333333332, 24.74137931034483, 26.166666666666668, 25.728813559322035, 26.838709677419356, 28.559322033898304, 24.928571428571427, 22.467741935483872, 19.137931034482758, 14.338709677419354, 17.721311475409838, 18.29310344827586, 18.612903225806452, 19.80327868852459, 16.65, 12.916666666666666], \"Saturday\": [11.350877192982455, 10.741935483870968, 10.915254237288135, 10.610169491525424, 11.885245901639344, 12.80327868852459, 16.716666666666665, 21.016393442622952, 20.25423728813559, 22.05263157894737, 26.033333333333335, 24.96551724137931, 24.423728813559322, 25.67241379310345, 27.541666666666668, 28.804347826086957, 27.238095238095237, 26.473684210526315, 21.5, 24.25, 26.194444444444443, 25.894736842105264, 25.365384615384617, 23.977777777777778], \"Sunday\": [22.604166666666668, 22.25, 22.367346938775512, 22.065217391304348, 22.816326530612244, 23.06122448979592, 24.893617021276597, 23.26086956521739, 19.836734693877553, 22.666666666666668, 18.979591836734695, 17.953488372093023, 18.44, 21.217391304347824, 12.936170212765957, 11.86, 10.404255319148936, 9.591836734693878, 7.395833333333333, 7.061224489795919, 8.444444444444445, 9.24, 7.454545454545454, 7.23404255319149]}, \"2\": {\"Monday\": [9.702127659574469, 10.62, 10.16326530612245, 10.069767441860465, 9.791666666666666, 7.571428571428571, 5.458333333333333, 2.3333333333333335, 0.46808510638297873, 2.1914893617021276, 4.395833333333333, 3.7755102040816326, 3.9130434782608696, 5.372549019607843, 4.573770491803279, 4.903225806451613, 4.09375, 4.15, 5.921875, 6.4603174603174605, 7.0625, 7.737704918032787, 7.1875, 8.016666666666667], \"Tuesday\": [7.571428571428571, 7.698412698412699, 7.7272727272727275, 7.711864406779661, 7.155172413793103, 6.28125, 5.46969696969697, 6.131147540983607, 1.03125, 1.121212121212121, 3.377049180327869, 2.984375, 3.015151515151515, 4.862068965517241, 8.32258064516129, 8.883333333333333, 9.285714285714286, 9.396825396825397, 10.184615384615384, 11.35483870967742, 11.242424242424242, 12.903225806451612, 14.546875, 16.049180327868854], \"Wednesday\": [15.890625, 15.969696969696969, 15.875, 15.766666666666667, 16.129032258064516, 14.290322580645162, 9.292307692307693, 5.0476190476190474, 3.2698412698412698, 1.8688524590163935, 3.9344262295081966, 4.870967741935484, 5.566666666666666, 8.661764705882353, 10.793650793650794, 11.175675675675675, 12.158730158730158, 13.212121212121213, 11.838709677419354, 12.95, 13.015625, 15.651515151515152, 16.65, 17.491803278688526], \"Thursday\": [17.515625, 17.83606557377049, 18.166666666666668, 17.904761904761905, 16.84375, 12.696969696969697, 5.762711864406779, 2.873015873015873, 2.6451612903225805, 1.9622641509433962, 3.5, 4.515151515151516, 2.9836065573770494, 5.241935483870968, 6.015625, 5.121212121212121, 6.573770491803279, 8.913793103448276, 8.775510204081632, 7.333333333333333, 8.131147540983607, 10.616666666666667, 11.883333333333333, 12.31578947368421], \"Friday\": [12.758064516129032, 13.161290322580646, 13.03225806451613, 13.107142857142858, 13.10344827586207, 12.11864406779661, 7.645161290322581, 5.274193548387097, 2.473684210526316, 5.288135593220339, 2.721311475409836, 1.0166666666666666, 0.6190476190476191, 1.1090909090909091, 3.75, 2.2419354838709675, 2.3392857142857144, 1.2372881355932204, 2.909090909090909, 4.482758620689655, 4.833333333333333, 5.068965517241379, 8.241935483870968, 9.267857142857142], \"Saturday\": [8.934426229508198, 8.661290322580646, 8.936507936507937, 9.0, 8.542372881355933, 8.11864406779661, 6.836065573770492, 5.836065573770492, 3.8852459016393444, 2.086206896551724, 4.533333333333333, 5.916666666666667, 4.5, 4.660714285714286, 4.38, 8.74468085106383, 8.761904761904763, 8.0, 7.408163265306122, 8.685714285714285, 8.135135135135135, 7.051282051282051, 6.428571428571429, 6.708333333333333], \"Sunday\": [7.404255319148936, 7.5, 7.34, 7.5227272727272725, 7.6521739130434785, 7.82, 6.916666666666667, 6.72, 5.1063829787234045, 3.32, 2.347826086956522, 2.659090909090909, 5.125, 6.446808510638298, 6.403846153846154, 6.186046511627907, 6.6938775510204085, 5.795918367346939, 4.133333333333334, 4.58, 5.865384615384615, 6.533333333333333, 9.444444444444445, 9.9]}}'"
      ]
     },
     "execution_count": 206,
     "metadata": {},
     "output_type": "execute_result"
    }
   ],
   "source": [
    "json.dumps(groupJson)"
   ]
  },
  {
   "cell_type": "code",
   "execution_count": null,
   "metadata": {},
   "outputs": [],
   "source": []
  }
 ],
 "metadata": {
  "kernelspec": {
   "display_name": "Python 3",
   "language": "python",
   "name": "python3"
  },
  "language_info": {
   "codemirror_mode": {
    "name": "ipython",
    "version": 3
   },
   "file_extension": ".py",
   "mimetype": "text/x-python",
   "name": "python",
   "nbconvert_exporter": "python",
   "pygments_lexer": "ipython3",
   "version": "3.6.3"
  }
 },
 "nbformat": 4,
 "nbformat_minor": 2
}
